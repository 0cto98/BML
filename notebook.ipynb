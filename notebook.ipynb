{
 "cells": [
  {
   "cell_type": "markdown",
   "source": "# Project : *A Bayesian reassessment of nearest-neighbour classification*\n### Tom Rivero, Sacha Dedeken | M2 Data Science | Bayesian Machine Learning",
   "metadata": {
    "cell_id": "af46f0c4-623e-49e0-91f5-18e9a467bd4a",
    "tags": [],
    "deepnote_cell_type": "markdown"
   }
  },
  {
   "cell_type": "markdown",
   "source": "#### Step 1 : Import packages and dataset\n\nWe use [the original KNN from the scikit learn library](https://scikit-learn.org/stable/modules/generated/sklearn.neighbors.KNeighborsClassifier.html), and data of [the Haberman's Survival Dataset](https://archive.ics.uci.edu/ml/datasets/Haberman%27s+Survival) from the UCI Machine Learning Repository. \n\nAs you can see below, the dataset contains the survival of 306 patients (age, year of the operation, number of positive axillary nodes) 5 years after having undergone surgery for breast cancer between 1958 and 1969. So we have $X \\in \\mathbb{N}^{306\\times3}$ and $y \\in \\{0,1\\}^{306}$. The goal is to do binary classification on $y$ based on $X$.",
   "metadata": {
    "cell_id": "f1800a50-c8a0-4e68-8def-69082f4a4ef2",
    "tags": [],
    "deepnote_cell_type": "markdown"
   }
  },
  {
   "cell_type": "code",
   "metadata": {
    "cell_id": "73e24059-034d-4625-ace6-1efc80fe539b",
    "tags": [],
    "deepnote_to_be_reexecuted": false,
    "source_hash": "e7c1b796",
    "execution_start": 1643130958840,
    "execution_millis": 3519,
    "deepnote_cell_type": "code"
   },
   "source": "import pandas as pd\nimport numpy as np\nimport matplotlib.pyplot as plt\nfrom tqdm import tqdm\n\nfrom sklearn.neighbors import KNeighborsClassifier, kneighbors_graph\nfrom sklearn.model_selection import train_test_split",
   "execution_count": 1,
   "outputs": []
  },
  {
   "cell_type": "code",
   "metadata": {
    "cell_id": "f37fb66b-5219-4949-a4df-d2e09180d997",
    "tags": [],
    "deepnote_to_be_reexecuted": false,
    "source_hash": "2a270ec9",
    "execution_start": 1643130964045,
    "execution_millis": 82,
    "deepnote_output_heights": [
     21.1875,
     254
    ],
    "deepnote_cell_type": "code"
   },
   "source": "df = pd.read_csv(\"haberman.data\", names=[\"age\", \"operation_year\", \"nodes\", \"survival_status\"])\ndf[\"survival_status\"] -= 1\ndf\n\"\"\"df_ripley_tr = pd.read_fwf('synth.tr')\ndf_ripley_te = pd.read_fwf('synth.te')\ndf_ripley_tr.plot.scatter(x=\"xs\", y=\"ys\", c=\"yc\", colormap='viridis');\"\"\"",
   "execution_count": 2,
   "outputs": [
    {
     "output_type": "execute_result",
     "execution_count": 2,
     "data": {
      "text/plain": "'df_ripley_tr = pd.read_fwf(\\'synth.tr\\')\\ndf_ripley_te = pd.read_fwf(\\'synth.te\\')\\ndf_ripley_tr.plot.scatter(x=\"xs\", y=\"ys\", c=\"yc\", colormap=\\'viridis\\');'"
     },
     "metadata": {}
    }
   ]
  },
  {
   "cell_type": "code",
   "metadata": {
    "cell_id": "ec050cd8-18a5-41b2-9838-fcd18f1c27db",
    "tags": [],
    "deepnote_to_be_reexecuted": false,
    "source_hash": "f88152d9",
    "execution_start": 1643130980486,
    "execution_millis": 2090,
    "deepnote_output_heights": [
     271
    ],
    "deepnote_cell_type": "code"
   },
   "source": "df.describe()",
   "execution_count": 3,
   "outputs": [
    {
     "output_type": "execute_result",
     "execution_count": 3,
     "data": {
      "application/vnd.deepnote.dataframe.v3+json": {
       "column_count": 4,
       "row_count": 8,
       "columns": [
        {
         "name": "age",
         "dtype": "float64",
         "stats": {
          "unique_count": 8,
          "nan_count": 0,
          "min": "10.80345234930328",
          "max": "306.0",
          "histogram": [
           {
            "bin_start": 10.80345234930328,
            "bin_end": 40.32310711437295,
            "count": 2
           },
           {
            "bin_start": 40.32310711437295,
            "bin_end": 69.84276187944263,
            "count": 4
           },
           {
            "bin_start": 69.84276187944263,
            "bin_end": 99.36241664451231,
            "count": 1
           },
           {
            "bin_start": 99.36241664451231,
            "bin_end": 128.88207140958198,
            "count": 0
           },
           {
            "bin_start": 128.88207140958198,
            "bin_end": 158.40172617465166,
            "count": 0
           },
           {
            "bin_start": 158.40172617465166,
            "bin_end": 187.92138093972133,
            "count": 0
           },
           {
            "bin_start": 187.92138093972133,
            "bin_end": 217.441035704791,
            "count": 0
           },
           {
            "bin_start": 217.441035704791,
            "bin_end": 246.96069046986068,
            "count": 0
           },
           {
            "bin_start": 246.96069046986068,
            "bin_end": 276.4803452349303,
            "count": 0
           },
           {
            "bin_start": 276.4803452349303,
            "bin_end": 306,
            "count": 1
           }
          ]
         }
        },
        {
         "name": "operation_year",
         "dtype": "float64",
         "stats": {
          "unique_count": 8,
          "nan_count": 0,
          "min": "3.2494046632238507",
          "max": "306.0",
          "histogram": [
           {
            "bin_start": 3.2494046632238507,
            "bin_end": 33.52446419690146,
            "count": 1
           },
           {
            "bin_start": 33.52446419690146,
            "bin_end": 63.799523730579075,
            "count": 4
           },
           {
            "bin_start": 63.799523730579075,
            "bin_end": 94.07458326425669,
            "count": 2
           },
           {
            "bin_start": 94.07458326425669,
            "bin_end": 124.34964279793431,
            "count": 0
           },
           {
            "bin_start": 124.34964279793431,
            "bin_end": 154.62470233161193,
            "count": 0
           },
           {
            "bin_start": 154.62470233161193,
            "bin_end": 184.89976186528952,
            "count": 0
           },
           {
            "bin_start": 184.89976186528952,
            "bin_end": 215.17482139896714,
            "count": 0
           },
           {
            "bin_start": 215.17482139896714,
            "bin_end": 245.44988093264476,
            "count": 0
           },
           {
            "bin_start": 245.44988093264476,
            "bin_end": 275.7249404663224,
            "count": 0
           },
           {
            "bin_start": 275.7249404663224,
            "bin_end": 306,
            "count": 1
           }
          ]
         }
        },
        {
         "name": "nodes",
         "dtype": "float64",
         "stats": {
          "unique_count": 7,
          "nan_count": 0,
          "min": "0.0",
          "max": "306.0",
          "histogram": [
           {
            "bin_start": 0,
            "bin_end": 30.6,
            "count": 6
           },
           {
            "bin_start": 30.6,
            "bin_end": 61.2,
            "count": 1
           },
           {
            "bin_start": 61.2,
            "bin_end": 91.80000000000001,
            "count": 0
           },
           {
            "bin_start": 91.80000000000001,
            "bin_end": 122.4,
            "count": 0
           },
           {
            "bin_start": 122.4,
            "bin_end": 153,
            "count": 0
           },
           {
            "bin_start": 153,
            "bin_end": 183.60000000000002,
            "count": 0
           },
           {
            "bin_start": 183.60000000000002,
            "bin_end": 214.20000000000002,
            "count": 0
           },
           {
            "bin_start": 214.20000000000002,
            "bin_end": 244.8,
            "count": 0
           },
           {
            "bin_start": 244.8,
            "bin_end": 275.40000000000003,
            "count": 0
           },
           {
            "bin_start": 275.40000000000003,
            "bin_end": 306,
            "count": 1
           }
          ]
         }
        },
        {
         "name": "survival_status",
         "dtype": "float64",
         "stats": {
          "unique_count": 5,
          "nan_count": 0,
          "min": "0.0",
          "max": "306.0",
          "histogram": [
           {
            "bin_start": 0,
            "bin_end": 30.6,
            "count": 7
           },
           {
            "bin_start": 30.6,
            "bin_end": 61.2,
            "count": 0
           },
           {
            "bin_start": 61.2,
            "bin_end": 91.80000000000001,
            "count": 0
           },
           {
            "bin_start": 91.80000000000001,
            "bin_end": 122.4,
            "count": 0
           },
           {
            "bin_start": 122.4,
            "bin_end": 153,
            "count": 0
           },
           {
            "bin_start": 153,
            "bin_end": 183.60000000000002,
            "count": 0
           },
           {
            "bin_start": 183.60000000000002,
            "bin_end": 214.20000000000002,
            "count": 0
           },
           {
            "bin_start": 214.20000000000002,
            "bin_end": 244.8,
            "count": 0
           },
           {
            "bin_start": 244.8,
            "bin_end": 275.40000000000003,
            "count": 0
           },
           {
            "bin_start": 275.40000000000003,
            "bin_end": 306,
            "count": 1
           }
          ]
         }
        },
        {
         "name": "_deepnote_index_column",
         "dtype": "object"
        }
       ],
       "rows": [
        {
         "age": 306,
         "operation_year": 306,
         "nodes": 306,
         "survival_status": 306,
         "_deepnote_index_column": "count"
        },
        {
         "age": 52.45751633986928,
         "operation_year": 62.85294117647059,
         "nodes": 4.026143790849673,
         "survival_status": 0.2647058823529412,
         "_deepnote_index_column": "mean"
        },
        {
         "age": 10.80345234930328,
         "operation_year": 3.2494046632238507,
         "nodes": 7.189653506248555,
         "survival_status": 0.44189911885403554,
         "_deepnote_index_column": "std"
        },
        {
         "age": 30,
         "operation_year": 58,
         "nodes": 0,
         "survival_status": 0,
         "_deepnote_index_column": "min"
        },
        {
         "age": 44,
         "operation_year": 60,
         "nodes": 0,
         "survival_status": 0,
         "_deepnote_index_column": "25%"
        },
        {
         "age": 52,
         "operation_year": 63,
         "nodes": 1,
         "survival_status": 0,
         "_deepnote_index_column": "50%"
        },
        {
         "age": 60.75,
         "operation_year": 65.75,
         "nodes": 4,
         "survival_status": 1,
         "_deepnote_index_column": "75%"
        },
        {
         "age": 83,
         "operation_year": 69,
         "nodes": 52,
         "survival_status": 1,
         "_deepnote_index_column": "max"
        }
       ]
      },
      "text/plain": "              age  operation_year       nodes  survival_status\ncount  306.000000      306.000000  306.000000       306.000000\nmean    52.457516       62.852941    4.026144         0.264706\nstd     10.803452        3.249405    7.189654         0.441899\nmin     30.000000       58.000000    0.000000         0.000000\n25%     44.000000       60.000000    0.000000         0.000000\n50%     52.000000       63.000000    1.000000         0.000000\n75%     60.750000       65.750000    4.000000         1.000000\nmax     83.000000       69.000000   52.000000         1.000000",
      "text/html": "<div>\n<style scoped>\n    .dataframe tbody tr th:only-of-type {\n        vertical-align: middle;\n    }\n\n    .dataframe tbody tr th {\n        vertical-align: top;\n    }\n\n    .dataframe thead th {\n        text-align: right;\n    }\n</style>\n<table border=\"1\" class=\"dataframe\">\n  <thead>\n    <tr style=\"text-align: right;\">\n      <th></th>\n      <th>age</th>\n      <th>operation_year</th>\n      <th>nodes</th>\n      <th>survival_status</th>\n    </tr>\n  </thead>\n  <tbody>\n    <tr>\n      <th>count</th>\n      <td>306.000000</td>\n      <td>306.000000</td>\n      <td>306.000000</td>\n      <td>306.000000</td>\n    </tr>\n    <tr>\n      <th>mean</th>\n      <td>52.457516</td>\n      <td>62.852941</td>\n      <td>4.026144</td>\n      <td>0.264706</td>\n    </tr>\n    <tr>\n      <th>std</th>\n      <td>10.803452</td>\n      <td>3.249405</td>\n      <td>7.189654</td>\n      <td>0.441899</td>\n    </tr>\n    <tr>\n      <th>min</th>\n      <td>30.000000</td>\n      <td>58.000000</td>\n      <td>0.000000</td>\n      <td>0.000000</td>\n    </tr>\n    <tr>\n      <th>25%</th>\n      <td>44.000000</td>\n      <td>60.000000</td>\n      <td>0.000000</td>\n      <td>0.000000</td>\n    </tr>\n    <tr>\n      <th>50%</th>\n      <td>52.000000</td>\n      <td>63.000000</td>\n      <td>1.000000</td>\n      <td>0.000000</td>\n    </tr>\n    <tr>\n      <th>75%</th>\n      <td>60.750000</td>\n      <td>65.750000</td>\n      <td>4.000000</td>\n      <td>1.000000</td>\n    </tr>\n    <tr>\n      <th>max</th>\n      <td>83.000000</td>\n      <td>69.000000</td>\n      <td>52.000000</td>\n      <td>1.000000</td>\n    </tr>\n  </tbody>\n</table>\n</div>"
     },
     "metadata": {}
    }
   ]
  },
  {
   "cell_type": "markdown",
   "source": "We split randomly the dataset into a train and a test set.",
   "metadata": {
    "cell_id": "05559ee9-e737-4000-84da-be486d2397f1",
    "tags": [],
    "deepnote_cell_type": "markdown"
   }
  },
  {
   "cell_type": "code",
   "metadata": {
    "cell_id": "e0004b07-9d53-409b-a332-32f04b3ea359",
    "tags": [],
    "deepnote_to_be_reexecuted": false,
    "source_hash": "65894346",
    "execution_start": 1643132402590,
    "execution_millis": 162,
    "deepnote_cell_type": "code"
   },
   "source": "X, y = df[df.columns[:-1]].to_numpy(), df[df.columns[-1]].to_numpy()\nX_train, X_test, y_train, y_test = train_test_split(X, y, test_size=0.2, random_state=666)\n\nK = min(np.unique(y_train, return_counts=True)[1]) # =64, maximum K we can pick for knn\nprint(K)",
   "execution_count": 29,
   "outputs": [
    {
     "name": "stdout",
     "text": "64\n",
     "output_type": "stream"
    }
   ]
  },
  {
   "cell_type": "code",
   "source": "# ripley dataset\n\ndef create_X_y(df_tr, df_te):\n    X_tr = df_tr[[\"xs\", \"ys\"]].to_numpy()\n    y_tr = df_tr[\"yc\"].to_numpy()\n    X_te = df_te[[\"xs\", \"ys\"]].to_numpy()\n    y_te = df_te[\"yc\"].to_numpy()\n    return X_tr, y_tr, X_te, y_te\n\n# Warning : X_tr, y_tr, X_te, y_te are then global parameters in the following functions.\nX_train, y_train, X_test, y_test = create_X_y(df_ripley_tr, df_ripley_te)\nK = min(np.unique(y_train, return_counts=True)[1])\nprint(K)",
   "metadata": {
    "cell_id": "e735a9eb-6326-4a52-a3bf-e98f47069b93",
    "tags": [],
    "deepnote_to_be_reexecuted": true,
    "source_hash": "2c837472",
    "execution_start": 1643129994556,
    "execution_millis": 2,
    "deepnote_cell_type": "code"
   },
   "outputs": [
    {
     "name": "stdout",
     "text": "125\n",
     "output_type": "stream"
    }
   ],
   "execution_count": null
  },
  {
   "cell_type": "markdown",
   "source": "#### Step 2 : Probabilistic modelling",
   "metadata": {
    "cell_id": "ef05a473-5831-4590-bf6c-3f8efc9b6aa1",
    "tags": [],
    "deepnote_cell_type": "markdown"
   }
  },
  {
   "cell_type": "code",
   "metadata": {
    "cell_id": "208d556a-4521-4f1f-be53-b8c86581ea65",
    "tags": [],
    "deepnote_to_be_reexecuted": false,
    "source_hash": "efb74829",
    "execution_start": 1643130994827,
    "execution_millis": 14,
    "deepnote_cell_type": "code"
   },
   "source": "def all_k_neighbors(K, X, point_to_pred=None):\n    \"\"\"Computes once every k-neighbors of every points for k in {1,K}\n\n    Args:\n        K (int): maximum number of neighbors\n        X (2D-array): trainset\n        point_to_pred (1D-array): point from test set that one wants to predict, default to None\n\n    Returns:\n        3D-list : each index i of the list contains the 2D-array containing the i-neighbors_graph\n\n    \"\"\"\n    if point_to_pred is not None:\n        X = np.append(X, np.array([point_to_pred]), axis=0) #append point to pred to X in order to later be able to compute its symetric potts\n\n    M = [None] #set first raw to none since it correspond to k=0\n    for n in range(1,K+1):\n        graph_n = kneighbors_graph(X, n)\n        M.append(graph_n.toarray())\n    return M\n\n\ndef symetric_potts(i, y_i, y, Mk):\n    \"\"\"Computes symetric potts as described in equation (4)\n\n    Args:\n        i (int): index of point we want to compute the symetric potts\n        y_i (int): class of point i\n        y (1D-array): array of labels of training points\n        Mk (2D-array):  a kneighbors_graph\n\n    Returns:\n        int: symetric potts\n    \"\"\"\n    #left part : number of neighbors of point i having label y_i\n    neighbors_index = np.nonzero(Mk[i])[0]\n    sp1 = np.sum(y[neighbors_index] == y_i)\n\n    #right part : number of points that have point i in their k-neighbourhood\n    neighbors_index = np.nonzero(Mk[:, i])[0] #get column instead of row\n    sp2 =  np.sum(y[neighbors_index] == y_i)\n\n    return sp1 + sp2",
   "execution_count": 5,
   "outputs": []
  },
  {
   "cell_type": "markdown",
   "source": "#### Step 3 : Pseudo-likelihood approximation",
   "metadata": {
    "cell_id": "bb250707-a922-49d3-878c-42971e35f199",
    "tags": [],
    "deepnote_cell_type": "markdown"
   }
  },
  {
   "cell_type": "code",
   "metadata": {
    "cell_id": "4a6a5335-9437-40a8-96dd-ba61f8a9df78",
    "tags": [],
    "deepnote_to_be_reexecuted": false,
    "source_hash": "3b5e5054",
    "execution_start": 1643130998896,
    "execution_millis": 65,
    "deepnote_cell_type": "code"
   },
   "source": "def log_pseudo_likelihood_approx(y, beta, k, Mk):\n    \"\"\"\"Computes the log of f_hat from formula (8) on page 12\n\n    Args:\n        y (1D-array) : array of labels of training\n        beta (float) : beta parameter in the formula\n        k (int) : k parameter in the formula\n        Mk (2D-array) : a kneighbor_graph\n\n    Returns:\n        float : log of f_hat from formula (8) on page 12\n    \"\"\"\n    nb_points = len(y)\n    num, den0, den1 = np.zeros(nb_points), np.zeros(nb_points), np.zeros(nb_points)\n\n    for i in range(nb_points):\n        sp0 = symetric_potts(i, 0, y_train, Mk)\n        sp1 = symetric_potts(i, 1, y_train, Mk)\n        \n        num[i] = sp0 if y[i]==0 else sp1\n        den0[i] = sp0\n        den1 = sp1\n\n    num = np.exp((beta/k)*num)\n    den = np.exp((beta/k)*den0) + np.exp((beta/k)*den1)   \n\n    num = np.sum(np.log((num)))\n    den = np.sum(np.log((den)))\n    return num - den\n\ndef log_prob_posterior(y, beta, k, theta, M):\n    \"\"\"\"\n\n    Args:\n        y (1D-array) : array of labels of training\n        beta (float) : beta parameter in the formula\n        k (int) : k parameter in the formula\n        M (3D-array) : the kneighbor_graph matrices\n\n    Returns:\n        float : \n    \"\"\"\n    f = log_pseudo_likelihood_approx(y, beta, k, M[k])\n    # change of variable of theta to beta\n    exp = theta - 2 * np.log(1 + np.exp(theta)) #??????????????\n\n    return f + exp",
   "execution_count": 6,
   "outputs": []
  },
  {
   "cell_type": "code",
   "metadata": {
    "cell_id": "95693758-205d-42fc-934a-2a5b63619417",
    "tags": [],
    "deepnote_to_be_reexecuted": false,
    "source_hash": "772120aa",
    "execution_start": 1643131000026,
    "execution_millis": 7,
    "deepnote_cell_type": "code"
   },
   "source": "# Metropolis Hasting\ndef Q_r(k, r):\n  \"\"\"A uniform distribution on the 2r neighbours of k\"\"\"\n  neighbours = range(max(1,k-r), min(K,k+r+1))\n  return 1 / len(neighbours)\n\ndef acceptance_probability(y, beta, k, new_k, theta, r, M, log_posterior, new_log_posterior):\n    \n  Q = Q_r(k, r) / Q_r(new_k, r)\n  r = np.exp( new_log_posterior - log_posterior ) #ratio of (non-log) posteriors\n\n  rho = min(r / Q, 1)\n\n  return rho",
   "execution_count": 7,
   "outputs": []
  },
  {
   "cell_type": "code",
   "metadata": {
    "cell_id": "44fd838a-7edf-49a3-b9b9-59e04272404d",
    "tags": [],
    "deepnote_to_be_reexecuted": false,
    "source_hash": "2e5d205d",
    "execution_start": 1643131003369,
    "execution_millis": 41,
    "deepnote_cell_type": "code"
   },
   "source": "def metropolis_hasting(r, tau2, beta_max, K, y, X, steps, burn_in_stage):\n\n    samples = np.zeros((steps-burn_in_stage,2))\n\n    # Initialisation of M and parameters \n    M = all_k_neighbors(K, X)\n    k = int(K/2)\n    theta = 0\n    beta = beta_max * np.exp(theta)/(np.exp(theta)+1)\n    log_posterior = log_prob_posterior(y, beta, k, theta, M)\n\n    for i in tqdm(range(steps)):\n        #update parameters\n        new_k = np.random.choice(range(max(1,k-r), min(K+1, k+r+1))) #draw new k uniformly on the 2r neighbours of old_k\n        new_theta = np.random.normal(theta, tau2) #Draw new theta from a normal distribution N(old_theta, tau^2)\n        new_beta = beta_max * np.exp(theta)/(np.exp(theta)+1) #logistic reparameterisation of beta (bottom of page 11 in the paper)\n\n        # acceptance probability\n        new_log_posterior = log_prob_posterior(y, beta, new_k, theta, M)\n        rho = acceptance_probability(y, new_beta, k, new_k, new_theta, r, M, log_posterior, new_log_posterior)\n        \n        u = np.random.rand()\n\n        if rho > u : #accept the update\n            k, theta, beta = new_k, new_theta, new_beta\n            log_posterior = new_log_posterior\n            \n        if i >= burn_in_stage: #store evolution of variables\n            samples[i-burn_in_stage-1] = [k, beta]\n        \n\n    return samples",
   "execution_count": 8,
   "outputs": []
  },
  {
   "cell_type": "code",
   "source": "def plots(samples, t):\n    plt.figure(figsize=(8, 3))\n    plt.subplot(1, 2, 1)\n    plt.plot(range(len(samples)), samples)\n    plt.title(t)\n    plt.subplot(1, 2, 2)\n    plt.hist(samples, bins=K)\n    plt.show()",
   "metadata": {
    "cell_id": "0959b67f-d811-4ef8-9379-edee1b7fe74d",
    "tags": [],
    "deepnote_to_be_reexecuted": false,
    "source_hash": "cf508e37",
    "execution_start": 1643131799776,
    "execution_millis": 0,
    "deepnote_cell_type": "code"
   },
   "outputs": [],
   "execution_count": 19
  },
  {
   "cell_type": "code",
   "metadata": {
    "cell_id": "8fc090bc-3f94-403f-b968-d4d28c1fd27a",
    "tags": [],
    "deepnote_to_be_reexecuted": false,
    "source_hash": "cdb54878",
    "execution_start": 1643132794427,
    "execution_millis": 130668,
    "deepnote_output_heights": [
     null,
     424
    ],
    "deepnote_cell_type": "code"
   },
   "source": "samples = metropolis_hasting(r=3, tau2=0.05, beta_max=4, K=K,\n            y=y_train, X=X_train,\n            steps=50000, burn_in_stage=40000)",
   "execution_count": 30,
   "outputs": [
    {
     "name": "stderr",
     "text": "  1%|          | 453/50000 [00:13<19:24, 42.55it/s]",
     "output_type": "stream"
    }
   ]
  },
  {
   "cell_type": "code",
   "metadata": {
    "cell_id": "aab9c1c0-4ed3-49cf-bef4-43b4f71133fa",
    "tags": [],
    "deepnote_to_be_reexecuted": true,
    "source_hash": "5c83db2a",
    "execution_start": 1643132547201,
    "execution_millis": 1982,
    "deepnote_output_heights": [
     212,
     212
    ],
    "deepnote_cell_type": "code"
   },
   "source": "samples_k = samples[:,0]\nsamples_beta = samples[:,1]\nplots(samples_k, 'k')\nplots(samples_beta, 'beta')",
   "execution_count": 31,
   "outputs": [
    {
     "data": {
      "text/plain": "<Figure size 576x216 with 2 Axes>",
      "image/png": "[encoded data removed]"
     },
     "metadata": {
      "needs_background": "light",
      "image/png": {
       "width": 480,
       "height": 210
      }
     },
     "output_type": "display_data"
    },
    {
     "data": {
      "text/plain": "<Figure size 576x216 with 2 Axes>",
      "image/png": "[encoded data removed]"
     },
     "metadata": {
      "needs_background": "light",
      "image/png": {
       "width": 493,
       "height": 210
      }
     },
     "output_type": "display_data"
    }
   ]
  },
  {
   "cell_type": "code",
   "metadata": {
    "cell_id": "4f8fb251-155d-4109-83ff-7bb50cab0608",
    "tags": [],
    "deepnote_to_be_reexecuted": false,
    "source_hash": "47e3cfd9",
    "execution_start": 1643132549186,
    "execution_millis": 7,
    "deepnote_output_heights": [
     607,
     194
    ],
    "deepnote_cell_type": "code"
   },
   "source": "def predict_probas(samples, X_test):\n\n    y_hat = np.zeros((len(X_test), 2))\n    for j in tqdm(range(len(X_test))):\n        M_pred = all_k_neighbors(K, X_train, X_test[j]) #computes neighbors of point j and point that have point j in their neighborhood \n        probas = np.zeros((len(samples), 2))\n        preds = np.zeros(len(samples))\n        for i, s in enumerate(samples):\n            k, beta = s\n            p0 = np.exp((beta/k)*symetric_potts(-1, 0, y_train, M_pred[int(k)])) #proba of point j to have label 0\n            p1 = np.exp((beta/k)*symetric_potts(-1, 1, y_train, M_pred[int(k)])) #proba of point j to have label 1\n            p = np.array([p0, p1])\n            probas[i] = p / np.sum(p) #normalize to have proper probabilities\n\n        y_hat[j] = np.mean(probas, axis=0) #final estimated probabilities for point j \n\n    return y_hat",
   "execution_count": 32,
   "outputs": []
  },
  {
   "cell_type": "code",
   "metadata": {
    "cell_id": "9818b9f7-0b6e-40da-af6b-c1946bf61651",
    "tags": [],
    "deepnote_to_be_reexecuted": true,
    "source_hash": "47fbba0",
    "execution_start": 1643132549205,
    "execution_millis": 25830,
    "deepnote_cell_type": "code"
   },
   "source": "y_hat = predict_probas(samples, X_test)",
   "execution_count": 33,
   "outputs": [
    {
     "name": "stderr",
     "text": "100%|██████████| 62/62 [00:25<00:00,  2.40it/s]\n",
     "output_type": "stream"
    }
   ]
  },
  {
   "cell_type": "code",
   "source": "#print(y_hat)\n#print(y_test)\n#print(np.argmax(y_hat, axis=1))\nprint(1-(np.sum(np.abs(np.argmax(y_hat, axis=1) - y_test)))/ len(y_test))",
   "metadata": {
    "cell_id": "a1297ca9-e7b0-492f-ab1d-5bd1990626ce",
    "tags": [],
    "deepnote_to_be_reexecuted": true,
    "source_hash": "5e0147c8",
    "execution_start": 1643132617344,
    "execution_millis": 2,
    "deepnote_cell_type": "code"
   },
   "outputs": [
    {
     "name": "stdout",
     "text": "0.7258064516129032\n",
     "output_type": "stream"
    }
   ],
   "execution_count": 37
  },
  {
   "cell_type": "markdown",
   "source": "# --------------------------",
   "metadata": {
    "cell_id": "317e8677-b0cf-44bf-b45d-2775f5b379a0",
    "tags": [],
    "deepnote_cell_type": "markdown"
   }
  },
  {
   "cell_type": "code",
   "metadata": {
    "cell_id": "3502b3d4-c867-4150-98d5-6718cf9504cb",
    "tags": [],
    "deepnote_to_be_reexecuted": false,
    "source_hash": "c12e8a8f",
    "execution_start": 1643132575085,
    "execution_millis": 940,
    "deepnote_output_heights": [
     280
    ],
    "deepnote_cell_type": "code"
   },
   "source": "K_list = range(1, K+1)\nscores = []\nfor n in K_list:\n    my_KNN = KNeighborsClassifier(n_neighbors=n)\n    my_KNN.fit(X_train, y_train)\n    scores.append(my_KNN.score(X_test, y_test))\n    \nbest_score = max(scores)\nbest_k = np.argmax(scores)+1\n\nplt.plot(K_list, scores, label=\"Best score: \"+str(np.round(best_score,2))+\" achieved for k=\"+str(best_k))\nplt.axvline(best_k, c=\"r\")\nplt.title(\"KNN score depending on the number of neighbors\")\nplt.xlabel(\"k\")\nplt.ylabel(\"score\")\nplt.legend()\nplt.show()",
   "execution_count": 35,
   "outputs": [
    {
     "data": {
      "text/plain": "<Figure size 432x288 with 1 Axes>",
      "image/png": "[encoded data removed]"
     },
     "metadata": {
      "needs_background": "light",
      "image/png": {
       "width": 392,
       "height": 278
      }
     },
     "output_type": "display_data"
    }
   ]
  },
  {
   "cell_type": "code",
   "source": "",
   "metadata": {
    "cell_id": "a51c7399-5ce5-411c-b094-524895f9bdf2",
    "tags": [],
    "deepnote_to_be_reexecuted": true,
    "source_hash": "b623e53d",
    "deepnote_cell_type": "code"
   },
   "outputs": [],
   "execution_count": null
  },
  {
   "cell_type": "markdown",
   "source": "<a style='text-decoration:none;line-height:16px;display:flex;color:#5B5B62;padding:10px;justify-content:end;' href='https://deepnote.com?utm_source=created-in-deepnote-cell&projectId=3b829252-08cb-4f6e-a65c-5242d23c5d16' target=\"_blank\">\n<img alt='Created in deepnote.com' style='display:inline;max-height:16px;margin:0px;margin-right:7.5px;' src='data:image/svg+xml;base64,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' > </img>\nCreated in <span style='font-weight:600;margin-left:4px;'>Deepnote</span></a>",
   "metadata": {
    "tags": [],
    "created_in_deepnote_cell": true,
    "deepnote_cell_type": "markdown"
   }
  }
 ],
 "nbformat": 4,
 "nbformat_minor": 2,
 "metadata": {
  "orig_nbformat": 2,
  "deepnote": {
   "is_reactive": false
  },
  "deepnote_notebook_id": "9e2cff1b-362b-4fd1-b0bb-efdaac40d6fc",
  "deepnote_execution_queue": [
   {
    "cellId": "8fc090bc-3f94-403f-b968-d4d28c1fd27a",
    "sessionId": "c1f19a87-6725-4579-8542-52e2344b4b61",
    "msgId": "184fae2f-f73d-4f17-8abb-90417e929684"
   },
   {
    "cellId": "aab9c1c0-4ed3-49cf-bef4-43b4f71133fa",
    "sessionId": "c1f19a87-6725-4579-8542-52e2344b4b61",
    "msgId": "e55e10e1-6c76-4643-97bd-285f9c61d1f1"
   },
   {
    "cellId": "9818b9f7-0b6e-40da-af6b-c1946bf61651",
    "sessionId": "c1f19a87-6725-4579-8542-52e2344b4b61",
    "msgId": "3d2bc49d-bad0-4be3-95d7-ab00d424ade6"
   },
   {
    "cellId": "a1297ca9-e7b0-492f-ab1d-5bd1990626ce",
    "sessionId": "c1f19a87-6725-4579-8542-52e2344b4b61",
    "msgId": "221009f8-d35e-4b5e-b047-9828f9f5f641"
   }
  ]
 }
}